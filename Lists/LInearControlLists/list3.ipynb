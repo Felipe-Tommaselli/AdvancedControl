{
 "cells": [
  {
   "cell_type": "markdown",
   "metadata": {},
   "source": [
    "# Lista 3: SEL0326 - Controle de Sistemas Lineares"
   ]
  },
  {
   "cell_type": "markdown",
   "metadata": {},
   "source": [
    "## Questão 1: Pendulo Invertido\n",
    "\n",
    "* $m \\cdot \\dot{\\dot{x}}  = F \\cdot sin(\\phi) = F \\cdot \\phi$\n",
    "\n",
    "com: $x(t) = \\epsilon (t) + L \\cdot \\phi (t)$\n",
    "\n",
    "Sendo, $\\epsilon (t)$ a entrada u(t). $\\phi (t)$ é a variável de saída."
   ]
  },
  {
   "cell_type": "code",
   "execution_count": null,
   "metadata": {},
   "outputs": [],
   "source": []
  }
 ],
 "metadata": {
  "language_info": {
   "name": "python"
  },
  "orig_nbformat": 4
 },
 "nbformat": 4,
 "nbformat_minor": 2
}
