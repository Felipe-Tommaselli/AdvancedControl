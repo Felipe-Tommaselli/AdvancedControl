{
 "cells": [
  {
   "cell_type": "markdown",
   "metadata": {},
   "source": [
    "# Lista 3: SEL0326 - Controle de Sistemas Lineares"
   ]
  },
  {
   "cell_type": "markdown",
   "metadata": {},
   "source": [
    "## Questão 1: Pendulo Invertido\n",
    "\n",
    "* $m \\cdot \\dot{\\dot{x}}  = F \\cdot sin(\\phi) = F \\cdot \\phi$\n",
    "\n",
    "com: $x(t) = \\epsilon (t) + L \\cdot \\phi (t)$\n",
    "\n",
    "Sendo, $\\epsilon (t)$ a entrada u(t). $\\phi (t)$ é a variável de saída."
   ]
  },
  {
   "cell_type": "code",
   "execution_count": 27,
   "metadata": {},
   "outputs": [],
   "source": [
    "import numpy as np\n",
    "import control.matlab as matlab \n",
    "import matplotlib.pyplot as plt\n",
    "import seaborn as sns\n",
    "sns.set_style(\"darkgrid\")"
   ]
  },
  {
   "cell_type": "code",
   "execution_count": 28,
   "metadata": {},
   "outputs": [
    {
     "name": "stdout",
     "output_type": "stream",
     "text": [
      "<LinearIOSystem>: sys[8]\n",
      "Inputs (1): ['u[0]']\n",
      "Outputs (1): ['y[0]']\n",
      "States (2): ['x[0]', 'x[1]']\n",
      "\n",
      "A = [[0.  1. ]\n",
      "     [3.5 0. ]]\n",
      "\n",
      "B = [[0. ]\n",
      "     [1.5]]\n",
      "\n",
      "C = [[1. 0.]]\n",
      "\n",
      "D = [[0.]]\n",
      "\n"
     ]
    }
   ],
   "source": [
    "F = 7\n",
    "m = 3 \n",
    "L = 2\n",
    "\n",
    "A = np.array([[0, 1], [F/L, 0]])\n",
    "B = np.array([[0], [m/L]])\n",
    "C = np.array([[1, 0]])\n",
    "D = np.array([[0]])\n",
    "\n",
    "sys = matlab.ss(A, B, C, D)\n",
    "\n",
    "print(sys)"
   ]
  },
  {
   "cell_type": "code",
   "execution_count": 29,
   "metadata": {},
   "outputs": [
    {
     "name": "stdout",
     "output_type": "stream",
     "text": [
      "[ 1.87082869 -1.87082869]\n"
     ]
    },
    {
     "data": {
      "image/png": "[encoded data removed]",
      "text/plain": [
       "<Figure size 640x480 with 1 Axes>"
      ]
     },
     "metadata": {},
     "output_type": "display_data"
    }
   ],
   "source": [
    "eigvals, eigenvectors = np.linalg.eig(A)\n",
    "print(eigvals)\n",
    "plt.plot(eigvals.real, eigvals.imag, 'rx')\n",
    "plt.xlabel('Real')\n",
    "plt.ylabel('Imaginary')\n",
    "plt.title('Pole-Zero Map')\n",
    "plt.axvline(x=0, color='k', linestyle='--')\n",
    "plt.show()"
   ]
  },
  {
   "cell_type": "code",
   "execution_count": 30,
   "metadata": {},
   "outputs": [
    {
     "name": "stdout",
     "output_type": "stream",
     "text": [
      "[[3.66666667 1.33333333]]\n"
     ]
    }
   ],
   "source": [
    "# Define the desired poles\n",
    "\n",
    "desired_poles = [-1 + 1j, -1 -1j]\n",
    "\n",
    "# Compute the gains to place the poles\n",
    "K = matlab.place(A, B, desired_poles)\n",
    "\n",
    "# Print the gains\n",
    "print(K)\n"
   ]
  },
  {
   "cell_type": "code",
   "execution_count": 31,
   "metadata": {},
   "outputs": [
    {
     "name": "stdout",
     "output_type": "stream",
     "text": [
      "Polo matematicamento alocado com k1=1.33 e k2=2.33\n"
     ]
    }
   ],
   "source": [
    "print(f'Polo matematicamento alocado com k1={2*L/m:.2f} e k2={F/m:.2f}')"
   ]
  }
 ],
 "metadata": {
  "kernelspec": {
   "display_name": "Python 3",
   "language": "python",
   "name": "python3"
  },
  "language_info": {
   "codemirror_mode": {
    "name": "ipython",
    "version": 3
   },
   "file_extension": ".py",
   "mimetype": "text/x-python",
   "name": "python",
   "nbconvert_exporter": "python",
   "pygments_lexer": "ipython3",
   "version": "3.8.10"
  },
  "orig_nbformat": 4
 },
 "nbformat": 4,
 "nbformat_minor": 2
}
