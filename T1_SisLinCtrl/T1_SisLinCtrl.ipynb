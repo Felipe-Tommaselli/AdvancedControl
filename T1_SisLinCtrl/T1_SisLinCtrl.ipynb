{
 "cells": [
  {
   "cell_type": "markdown",
   "metadata": {},
   "source": [
    "# TRABALHO FINAL\n",
    "\n",
    "> SEL0326 - CONTROLE DE SISTEMAS LINEARES\n",
    "\n",
    "### Controle LQR de um modelo de Sistema de Potência Máquina versus Barramento Infinito"
   ]
  },
  {
   "cell_type": "code",
   "execution_count": 37,
   "metadata": {},
   "outputs": [],
   "source": [
    "import numpy as np \n",
    "import matplotlib.pyplot as plt\n",
    "import control.matlab as matlab"
   ]
  },
  {
   "cell_type": "markdown",
   "metadata": {},
   "source": [
    "* Espaço de eestados do sistema: \n",
    "$ \\dot{x} = Ax + Bu $, $ \\ x(0) = x_0$"
   ]
  },
  {
   "cell_type": "markdown",
   "metadata": {},
   "source": [
    "## Etapa 1: Criação do modelo nominal do grupo "
   ]
  },
  {
   "cell_type": "code",
   "execution_count": 38,
   "metadata": {},
   "outputs": [
    {
     "data": {
      "text/plain": [
       "array([[ 0.00000000e+00,  3.84615902e+02,  0.00000000e+00,\n",
       "         0.00000000e+00],\n",
       "       [-1.55336933e-01,  0.00000000e+00, -7.88009991e-02,\n",
       "         0.00000000e+00],\n",
       "       [-1.75121766e-01,  0.00000000e+00, -4.84419615e-01,\n",
       "         1.72698116e-01],\n",
       "       [ 1.51770535e+03,  0.00000000e+00, -5.52961953e+03,\n",
       "        -9.62404293e+01]])"
      ]
     },
     "execution_count": 38,
     "metadata": {},
     "output_type": "execute_result"
    }
   ],
   "source": [
    "# Matrix A\n",
    "A = np.array([[0, 376.9911, 0, 0],\n",
    "              [-0.15685, 0, -0.0784, 0],\n",
    "              [-0.16725, 0, -0.46296, 0.166667],\n",
    "              [1572.825, 0, -5416.98, -100]])\n",
    "\n",
    "# Matrix B\n",
    "B = np.array([[0],\n",
    "              [0],\n",
    "              [0],\n",
    "              [10000]])\n",
    "\n",
    "# Generate delta_A\n",
    "delta_A = np.random.uniform(-0.05, 0.05, size=A.shape) * A\n",
    "\n",
    "A_new = A + delta_A\n",
    "\n",
    "A_new\n"
   ]
  },
  {
   "cell_type": "markdown",
   "metadata": {},
   "source": [
    "## Etapa 2: Definição do funcional LQR\n",
    "\n",
    "$ J = \\int_{0}^{\\infty} (x^TQx + u^TRu)dt $"
   ]
  },
  {
   "cell_type": "code",
   "execution_count": 39,
   "metadata": {},
   "outputs": [
    {
     "data": {
      "text/plain": [
       "(array([[1, 0, 0, 0],\n",
       "        [0, 1, 0, 0],\n",
       "        [0, 0, 1, 0],\n",
       "        [0, 0, 0, 1]]),\n",
       " array([[1]]))"
      ]
     },
     "execution_count": 39,
     "metadata": {},
     "output_type": "execute_result"
    }
   ],
   "source": [
    "# Q e R matrizes diagonais e postivias\n",
    "\n",
    "Q = np.diag([1, 1, 1, 1])\n",
    "R = np.diag([1])\n",
    "\n",
    "# obs: Q tem que ter a mesma dimensão de A e R tem que ter a mesma dimensão de B\n",
    "\n",
    "Q, R\n"
   ]
  },
  {
   "cell_type": "markdown",
   "metadata": {},
   "source": [
    "## Etapa 3: Cálculo do ganho ótimo K para o modelo nominal do grupo\n",
    "\n",
    "* Modelo: $ \\dot{x} = (A + \\Delta A) x + Bu $, $ \\ x(0) = x_0$\n",
    "\n",
    "* Realimentação: $ u = -Kx $\n",
    "\n",
    "* Sistema em malha fechada: $ \\dot{x} = (A + \\Delta A - BK) x $\n",
    "\n",
    "* Condição inicial: $x_0 = [0, 0, 0, 0.1] ^T $\n",
    "\n",
    "a) calcule o ganho ótimo K que minimiza o funcional J\n",
    "\n",
    "b) calcule o valor do funcional J para o ganho ótimo K obtido no item anterior e compare o valor calculado com o valor da expressão $x_0 ^T P x_0$\n",
    "\n",
    "c) Apresente o gráfico da resposta no tempo do modelo com incertezas em malha fechada"
   ]
  },
  {
   "cell_type": "code",
   "execution_count": 40,
   "metadata": {},
   "outputs": [
    {
     "name": "stdout",
     "output_type": "stream",
     "text": [
      "LQR gain matrix: [[ 0.57755561 -2.14038763  0.00825644  0.99005014]]\n"
     ]
    },
    {
     "data": {
      "text/latex": [
       "$$\n",
       "\\left(\\begin{array}{rllrllrllrll|rll}\n",
       "0\\phantom{.}&\\hspace{-1em}&\\hspace{-1em}\\phantom{\\cdot}&377\\phantom{.}&\\hspace{-1em}&\\hspace{-1em}\\phantom{\\cdot}&0\\phantom{.}&\\hspace{-1em}&\\hspace{-1em}\\phantom{\\cdot}&0\\phantom{.}&\\hspace{-1em}&\\hspace{-1em}\\phantom{\\cdot}&0\\phantom{.}&\\hspace{-1em}&\\hspace{-1em}\\phantom{\\cdot}\\\\\n",
       "-0.&\\hspace{-1em}157&\\hspace{-1em}\\phantom{\\cdot}&0\\phantom{.}&\\hspace{-1em}&\\hspace{-1em}\\phantom{\\cdot}&-0.&\\hspace{-1em}0784&\\hspace{-1em}\\phantom{\\cdot}&0\\phantom{.}&\\hspace{-1em}&\\hspace{-1em}\\phantom{\\cdot}&0\\phantom{.}&\\hspace{-1em}&\\hspace{-1em}\\phantom{\\cdot}\\\\\n",
       "-0.&\\hspace{-1em}167&\\hspace{-1em}\\phantom{\\cdot}&0\\phantom{.}&\\hspace{-1em}&\\hspace{-1em}\\phantom{\\cdot}&-0.&\\hspace{-1em}463&\\hspace{-1em}\\phantom{\\cdot}&0.&\\hspace{-1em}167&\\hspace{-1em}\\phantom{\\cdot}&0\\phantom{.}&\\hspace{-1em}&\\hspace{-1em}\\phantom{\\cdot}\\\\\n",
       "1.&\\hspace{-1em}57&\\hspace{-1em}\\cdot10^{3}&0\\phantom{.}&\\hspace{-1em}&\\hspace{-1em}\\phantom{\\cdot}&-5.&\\hspace{-1em}42&\\hspace{-1em}\\cdot10^{3}&-100\\phantom{.}&\\hspace{-1em}&\\hspace{-1em}\\phantom{\\cdot}&1\\phantom{.}&\\hspace{-1em}&\\hspace{-1em}\\cdot10^{4}\\\\\n",
       "\\hline\n",
       "1\\phantom{.}&\\hspace{-1em}&\\hspace{-1em}\\phantom{\\cdot}&0\\phantom{.}&\\hspace{-1em}&\\hspace{-1em}\\phantom{\\cdot}&0\\phantom{.}&\\hspace{-1em}&\\hspace{-1em}\\phantom{\\cdot}&0\\phantom{.}&\\hspace{-1em}&\\hspace{-1em}\\phantom{\\cdot}&0\\phantom{.}&\\hspace{-1em}&\\hspace{-1em}\\phantom{\\cdot}\\\\\n",
       "0\\phantom{.}&\\hspace{-1em}&\\hspace{-1em}\\phantom{\\cdot}&1\\phantom{.}&\\hspace{-1em}&\\hspace{-1em}\\phantom{\\cdot}&0\\phantom{.}&\\hspace{-1em}&\\hspace{-1em}\\phantom{\\cdot}&0\\phantom{.}&\\hspace{-1em}&\\hspace{-1em}\\phantom{\\cdot}&0\\phantom{.}&\\hspace{-1em}&\\hspace{-1em}\\phantom{\\cdot}\\\\\n",
       "0\\phantom{.}&\\hspace{-1em}&\\hspace{-1em}\\phantom{\\cdot}&0\\phantom{.}&\\hspace{-1em}&\\hspace{-1em}\\phantom{\\cdot}&1\\phantom{.}&\\hspace{-1em}&\\hspace{-1em}\\phantom{\\cdot}&0\\phantom{.}&\\hspace{-1em}&\\hspace{-1em}\\phantom{\\cdot}&0\\phantom{.}&\\hspace{-1em}&\\hspace{-1em}\\phantom{\\cdot}\\\\\n",
       "0\\phantom{.}&\\hspace{-1em}&\\hspace{-1em}\\phantom{\\cdot}&0\\phantom{.}&\\hspace{-1em}&\\hspace{-1em}\\phantom{\\cdot}&0\\phantom{.}&\\hspace{-1em}&\\hspace{-1em}\\phantom{\\cdot}&1\\phantom{.}&\\hspace{-1em}&\\hspace{-1em}\\phantom{\\cdot}&0\\phantom{.}&\\hspace{-1em}&\\hspace{-1em}\\phantom{\\cdot}\\\\\n",
       "\\end{array}\\right)\n",
       "$$"
      ],
      "text/plain": [
       "<LinearIOSystem:sys[14]:['u[0]']->['y[0]', 'y[1]', 'y[2]', 'y[3]']>"
      ]
     },
     "execution_count": 40,
     "metadata": {},
     "output_type": "execute_result"
    }
   ],
   "source": [
    "# a) \n",
    "\n",
    "# solve the algebraic Riccati equation to obtain the LQR gain matrix K\n",
    "K, S, E = matlab.lqr(A, B, Q, R)\n",
    "\n",
    "# create the closed-loop system with the LQR controller\n",
    "Ac = A - B @ K\n",
    "\n",
    "sys = matlab.ss(A, B, np.eye(4), 0)\n",
    "sys_lqr = matlab.ss(Ac, B, np.eye(4), 0)\n",
    "\n",
    "# print the LQR gain matrix\n",
    "print(f\"LQR gain matrix: {K}\")\n",
    "\n",
    "sys "
   ]
  },
  {
   "cell_type": "code",
   "execution_count": 43,
   "metadata": {},
   "outputs": [
    {
     "name": "stdout",
     "output_type": "stream",
     "text": [
      "y:  [[[ 0.00000000e+00]\n",
      "  [ 0.00000000e+00]\n",
      "  [ 0.00000000e+00]\n",
      "  [ 0.00000000e+00]]\n",
      "\n",
      " [[-2.28734134e-04]\n",
      "  [-1.11140819e-04]\n",
      "  [ 1.84036661e-01]\n",
      "  [ 8.16929797e+01]]\n",
      "\n",
      " [[-2.69434176e-03]\n",
      "  [-6.13155717e-04]\n",
      "  [ 4.58608063e-01]\n",
      "  [ 8.03906738e+01]]\n",
      "\n",
      " ...\n",
      "\n",
      " [[ 7.37741366e+00]\n",
      "  [-1.87776609e+00]\n",
      "  [ 1.47555021e+01]\n",
      "  [-5.20244005e+02]]\n",
      "\n",
      " [[-6.90942895e+00]\n",
      "  [-1.90012576e+00]\n",
      "  [ 1.26880386e+01]\n",
      "  [-6.39817896e+02]]\n",
      "\n",
      " [[-2.11825480e+01]\n",
      "  [-1.87405657e+00]\n",
      "  [ 1.03147761e+01]\n",
      "  [-7.44117763e+02]]]\n"
     ]
    },
    {
     "ename": "ValueError",
     "evalue": "x and y can be no greater than 2D, but have shapes (1000,) and (1000, 4, 1)",
     "output_type": "error",
     "traceback": [
      "\u001b[0;31m---------------------------------------------------------------------------\u001b[0m",
      "\u001b[0;31mValueError\u001b[0m                                Traceback (most recent call last)",
      "\u001b[1;32m/home/tommaselli/Documents/AdvancedControl/T1_SisLinCtrl/T1_SisLinCtrl.ipynb Cell 10\u001b[0m line \u001b[0;36m1\n\u001b[1;32m      <a href='vscode-notebook-cell:/home/tommaselli/Documents/AdvancedControl/T1_SisLinCtrl/T1_SisLinCtrl.ipynb#X13sZmlsZQ%3D%3D?line=5'>6</a>\u001b[0m \u001b[39mprint\u001b[39m(\u001b[39m'\u001b[39m\u001b[39my: \u001b[39m\u001b[39m'\u001b[39m, y)\n\u001b[1;32m      <a href='vscode-notebook-cell:/home/tommaselli/Documents/AdvancedControl/T1_SisLinCtrl/T1_SisLinCtrl.ipynb#X13sZmlsZQ%3D%3D?line=7'>8</a>\u001b[0m fig, ax \u001b[39m=\u001b[39m plt\u001b[39m.\u001b[39msubplots(figsize\u001b[39m=\u001b[39m(\u001b[39m5\u001b[39m, \u001b[39m3\u001b[39m))\n\u001b[0;32m---> <a href='vscode-notebook-cell:/home/tommaselli/Documents/AdvancedControl/T1_SisLinCtrl/T1_SisLinCtrl.ipynb#X13sZmlsZQ%3D%3D?line=9'>10</a>\u001b[0m ax\u001b[39m.\u001b[39;49mplot(t, y, label\u001b[39m=\u001b[39;49m\u001b[39m'\u001b[39;49m\u001b[39mA\u001b[39;49m\u001b[39m'\u001b[39;49m)\n\u001b[1;32m     <a href='vscode-notebook-cell:/home/tommaselli/Documents/AdvancedControl/T1_SisLinCtrl/T1_SisLinCtrl.ipynb#X13sZmlsZQ%3D%3D?line=10'>11</a>\u001b[0m ax\u001b[39m.\u001b[39mplot(t, ylqr, label\u001b[39m=\u001b[39m\u001b[39m'\u001b[39m\u001b[39mAcl\u001b[39m\u001b[39m'\u001b[39m)\n\u001b[1;32m     <a href='vscode-notebook-cell:/home/tommaselli/Documents/AdvancedControl/T1_SisLinCtrl/T1_SisLinCtrl.ipynb#X13sZmlsZQ%3D%3D?line=11'>12</a>\u001b[0m ax\u001b[39m.\u001b[39mlegend()\n",
      "File \u001b[0;32m~/.local/lib/python3.8/site-packages/matplotlib/axes/_axes.py:1688\u001b[0m, in \u001b[0;36mAxes.plot\u001b[0;34m(self, scalex, scaley, data, *args, **kwargs)\u001b[0m\n\u001b[1;32m   1445\u001b[0m \u001b[39m\u001b[39m\u001b[39m\"\"\"\u001b[39;00m\n\u001b[1;32m   1446\u001b[0m \u001b[39mPlot y versus x as lines and/or markers.\u001b[39;00m\n\u001b[1;32m   1447\u001b[0m \n\u001b[0;32m   (...)\u001b[0m\n\u001b[1;32m   1685\u001b[0m \u001b[39m(``'green'``) or hex strings (``'#008000'``).\u001b[39;00m\n\u001b[1;32m   1686\u001b[0m \u001b[39m\"\"\"\u001b[39;00m\n\u001b[1;32m   1687\u001b[0m kwargs \u001b[39m=\u001b[39m cbook\u001b[39m.\u001b[39mnormalize_kwargs(kwargs, mlines\u001b[39m.\u001b[39mLine2D)\n\u001b[0;32m-> 1688\u001b[0m lines \u001b[39m=\u001b[39m [\u001b[39m*\u001b[39m\u001b[39mself\u001b[39m\u001b[39m.\u001b[39m_get_lines(\u001b[39m*\u001b[39margs, data\u001b[39m=\u001b[39mdata, \u001b[39m*\u001b[39m\u001b[39m*\u001b[39mkwargs)]\n\u001b[1;32m   1689\u001b[0m \u001b[39mfor\u001b[39;00m line \u001b[39min\u001b[39;00m lines:\n\u001b[1;32m   1690\u001b[0m     \u001b[39mself\u001b[39m\u001b[39m.\u001b[39madd_line(line)\n",
      "File \u001b[0;32m~/.local/lib/python3.8/site-packages/matplotlib/axes/_base.py:311\u001b[0m, in \u001b[0;36m_process_plot_var_args.__call__\u001b[0;34m(self, data, *args, **kwargs)\u001b[0m\n\u001b[1;32m    309\u001b[0m     this \u001b[39m+\u001b[39m\u001b[39m=\u001b[39m args[\u001b[39m0\u001b[39m],\n\u001b[1;32m    310\u001b[0m     args \u001b[39m=\u001b[39m args[\u001b[39m1\u001b[39m:]\n\u001b[0;32m--> 311\u001b[0m \u001b[39myield from\u001b[39;00m \u001b[39mself\u001b[39;49m\u001b[39m.\u001b[39;49m_plot_args(\n\u001b[1;32m    312\u001b[0m     this, kwargs, ambiguous_fmt_datakey\u001b[39m=\u001b[39;49mambiguous_fmt_datakey)\n",
      "File \u001b[0;32m~/.local/lib/python3.8/site-packages/matplotlib/axes/_base.py:507\u001b[0m, in \u001b[0;36m_process_plot_var_args._plot_args\u001b[0;34m(self, tup, kwargs, return_kwargs, ambiguous_fmt_datakey)\u001b[0m\n\u001b[1;32m    504\u001b[0m     \u001b[39mraise\u001b[39;00m \u001b[39mValueError\u001b[39;00m(\u001b[39mf\u001b[39m\u001b[39m\"\u001b[39m\u001b[39mx and y must have same first dimension, but \u001b[39m\u001b[39m\"\u001b[39m\n\u001b[1;32m    505\u001b[0m                      \u001b[39mf\u001b[39m\u001b[39m\"\u001b[39m\u001b[39mhave shapes \u001b[39m\u001b[39m{\u001b[39;00mx\u001b[39m.\u001b[39mshape\u001b[39m}\u001b[39;00m\u001b[39m and \u001b[39m\u001b[39m{\u001b[39;00my\u001b[39m.\u001b[39mshape\u001b[39m}\u001b[39;00m\u001b[39m\"\u001b[39m)\n\u001b[1;32m    506\u001b[0m \u001b[39mif\u001b[39;00m x\u001b[39m.\u001b[39mndim \u001b[39m>\u001b[39m \u001b[39m2\u001b[39m \u001b[39mor\u001b[39;00m y\u001b[39m.\u001b[39mndim \u001b[39m>\u001b[39m \u001b[39m2\u001b[39m:\n\u001b[0;32m--> 507\u001b[0m     \u001b[39mraise\u001b[39;00m \u001b[39mValueError\u001b[39;00m(\u001b[39mf\u001b[39m\u001b[39m\"\u001b[39m\u001b[39mx and y can be no greater than 2D, but have \u001b[39m\u001b[39m\"\u001b[39m\n\u001b[1;32m    508\u001b[0m                      \u001b[39mf\u001b[39m\u001b[39m\"\u001b[39m\u001b[39mshapes \u001b[39m\u001b[39m{\u001b[39;00mx\u001b[39m.\u001b[39mshape\u001b[39m}\u001b[39;00m\u001b[39m and \u001b[39m\u001b[39m{\u001b[39;00my\u001b[39m.\u001b[39mshape\u001b[39m}\u001b[39;00m\u001b[39m\"\u001b[39m)\n\u001b[1;32m    509\u001b[0m \u001b[39mif\u001b[39;00m x\u001b[39m.\u001b[39mndim \u001b[39m==\u001b[39m \u001b[39m1\u001b[39m:\n\u001b[1;32m    510\u001b[0m     x \u001b[39m=\u001b[39m x[:, np\u001b[39m.\u001b[39mnewaxis]\n",
      "\u001b[0;31mValueError\u001b[0m: x and y can be no greater than 2D, but have shapes (1000,) and (1000, 4, 1)"
     ]
    },
    {
     "data": {
      "image/png": "[encoded data removed]",
      "text/plain": [
       "<Figure size 500x300 with 1 Axes>"
      ]
     },
     "metadata": {},
     "output_type": "display_data"
    }
   ],
   "source": [
    "# plot \n",
    "t = np.linspace(0, 20, 1000)\n",
    "y, _ = matlab.step(sys, t)\n",
    "ylqr, _ = matlab.step(sys_lqr, t)\n",
    "\n",
    "print('y: ', y)\n",
    "\n",
    "fig, ax = plt.subplots(figsize=(5, 3))\n",
    "\n",
    "ax.plot(t, y, label='A')\n",
    "ax.plot(t, ylqr, label='Acl')\n",
    "ax.legend()\n",
    "\n",
    "# limit y axis\n",
    "plt.ylim(0, 2)\n",
    "\n",
    "plt.show()"
   ]
  }
 ],
 "metadata": {
  "kernelspec": {
   "display_name": "Python 3",
   "language": "python",
   "name": "python3"
  },
  "language_info": {
   "codemirror_mode": {
    "name": "ipython",
    "version": 3
   },
   "file_extension": ".py",
   "mimetype": "text/x-python",
   "name": "python",
   "nbconvert_exporter": "python",
   "pygments_lexer": "ipython3",
   "version": "3.8.10"
  },
  "orig_nbformat": 4
 },
 "nbformat": 4,
 "nbformat_minor": 2
}
