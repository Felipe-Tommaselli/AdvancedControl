{
 "cells": [
  {
   "cell_type": "markdown",
   "metadata": {},
   "source": [
    "# Notes\n",
    "\n",
    "* Pole placement! \n",
    "\n",
    "* Reference: https://www.youtube.com/watch?v=FXSpHy8LvmY&list=PLn8PRpmsu08podBgFw66-IavqU2SqPg_w&index=2"
   ]
  },
  {
   "cell_type": "code",
   "execution_count": 51,
   "metadata": {},
   "outputs": [],
   "source": [
    "import numpy as np\n",
    "import control.matlab as matlab\n",
    "import matplotlib.pyplot as plt\n",
    "import seaborn as sns\n",
    "sns.set_style('darkgrid')"
   ]
  },
  {
   "cell_type": "markdown",
   "metadata": {},
   "source": [
    "State space form:\n",
    "* $\\dot x = A \\cdot x + B \\cdot u$\n",
    "* $y = C \\cdot x + D \\cdot u$"
   ]
  },
  {
   "cell_type": "code",
   "execution_count": 52,
   "metadata": {},
   "outputs": [
    {
     "data": {
      "text/latex": [
       "$$\n",
       "\\left(\\begin{array}{rllrll|rll}\n",
       "0\\phantom{.}&\\hspace{-1em}&\\hspace{-1em}\\phantom{\\cdot}&1\\phantom{.}&\\hspace{-1em}&\\hspace{-1em}\\phantom{\\cdot}&1\\phantom{.}&\\hspace{-1em}&\\hspace{-1em}\\phantom{\\cdot}\\\\\n",
       "2\\phantom{.}&\\hspace{-1em}&\\hspace{-1em}\\phantom{\\cdot}&-1\\phantom{.}&\\hspace{-1em}&\\hspace{-1em}\\phantom{\\cdot}&0\\phantom{.}&\\hspace{-1em}&\\hspace{-1em}\\phantom{\\cdot}\\\\\n",
       "\\hline\n",
       "1\\phantom{.}&\\hspace{-1em}&\\hspace{-1em}\\phantom{\\cdot}&0\\phantom{.}&\\hspace{-1em}&\\hspace{-1em}\\phantom{\\cdot}&0\\phantom{.}&\\hspace{-1em}&\\hspace{-1em}\\phantom{\\cdot}\\\\\n",
       "\\end{array}\\right)\n",
       "$$"
      ],
      "text/plain": [
       "<LinearIOSystem:sys[15]:['u[0]']->['y[0]']>"
      ]
     },
     "execution_count": 52,
     "metadata": {},
     "output_type": "execute_result"
    }
   ],
   "source": [
    "A = np.array([[0, 1], [2, -1]])\n",
    "B = np.array([[1], [0]])\n",
    "C = np.array([[1, 0]])\n",
    "D = np.array([[0]])\n",
    "\n",
    "sys = matlab.ss(A, B, C, D)\n",
    "\n",
    "sys"
   ]
  },
  {
   "cell_type": "markdown",
   "metadata": {},
   "source": [
    "Eigenvalues of $A$ are the poles of the system."
   ]
  },
  {
   "cell_type": "code",
   "execution_count": 53,
   "metadata": {},
   "outputs": [
    {
     "data": {
      "text/plain": [
       "array([ 1., -2.])"
      ]
     },
     "execution_count": 53,
     "metadata": {},
     "output_type": "execute_result"
    }
   ],
   "source": [
    "# find eigenvalues of A\n",
    "eigvals, eigvecs = np.linalg.eig(A)\n",
    "\n",
    "eigvals"
   ]
  },
  {
   "cell_type": "markdown",
   "metadata": {},
   "source": [
    "If we have at least one eigenvalue with positive real part, the system is unstable.\n",
    "\n",
    "<img src=\"eigenvalues.png\" width=500>\n",
    "\n",
    "To solve that, we need a pole placement controller."
   ]
  },
  {
   "cell_type": "code",
   "execution_count": 54,
   "metadata": {},
   "outputs": [
    {
     "data": {
      "text/plain": [
       "matrix([[2., 1.]])"
      ]
     },
     "execution_count": 54,
     "metadata": {},
     "output_type": "execute_result"
    }
   ],
   "source": [
    "# desired eigenvalues (we corrected the 1 to -1 for establishing stability)\n",
    "P = np.array([-2, -1])\n",
    "\n",
    "# hard math to find eigenvalues of A - BK\n",
    "K = matlab.place(A, B, P)\n",
    "K"
   ]
  },
  {
   "cell_type": "markdown",
   "metadata": {},
   "source": [
    "now that we have K feedback, we can create the closed loop system:\n",
    "\n",
    "$\\dot x = (A - B \\cdot K) \\cdot x$"
   ]
  },
  {
   "cell_type": "code",
   "execution_count": 55,
   "metadata": {},
   "outputs": [
    {
     "data": {
      "text/plain": [
       "array([-1., -2.])"
      ]
     },
     "execution_count": 55,
     "metadata": {},
     "output_type": "execute_result"
    }
   ],
   "source": [
    "Acl = A - B @ K\n",
    "\n",
    "eigvals, eigvecs = np.linalg.eig(Acl)\n",
    "\n",
    "eigvals"
   ]
  },
  {
   "cell_type": "code",
   "execution_count": 56,
   "metadata": {},
   "outputs": [
    {
     "data": {
      "text/latex": [
       "$$\n",
       "\\left(\\begin{array}{rllrll|rll}\n",
       "-2\\phantom{.}&\\hspace{-1em}&\\hspace{-1em}\\phantom{\\cdot}&0\\phantom{.}&\\hspace{-1em}&\\hspace{-1em}\\phantom{\\cdot}&1\\phantom{.}&\\hspace{-1em}&\\hspace{-1em}\\phantom{\\cdot}\\\\\n",
       "2\\phantom{.}&\\hspace{-1em}&\\hspace{-1em}\\phantom{\\cdot}&-1\\phantom{.}&\\hspace{-1em}&\\hspace{-1em}\\phantom{\\cdot}&0\\phantom{.}&\\hspace{-1em}&\\hspace{-1em}\\phantom{\\cdot}\\\\\n",
       "\\hline\n",
       "1\\phantom{.}&\\hspace{-1em}&\\hspace{-1em}\\phantom{\\cdot}&0\\phantom{.}&\\hspace{-1em}&\\hspace{-1em}\\phantom{\\cdot}&0\\phantom{.}&\\hspace{-1em}&\\hspace{-1em}\\phantom{\\cdot}\\\\\n",
       "\\end{array}\\right)\n",
       "$$"
      ],
      "text/plain": [
       "<LinearIOSystem:sys[16]:['u[0]']->['y[0]']>"
      ]
     },
     "execution_count": 56,
     "metadata": {},
     "output_type": "execute_result"
    }
   ],
   "source": [
    "syscl = matlab.ss(Acl, B, C, D)\n",
    "\n",
    "syscl"
   ]
  },
  {
   "cell_type": "markdown",
   "metadata": {},
   "source": [
    "Now we can compare both step responses\n",
    "\n",
    "Note that, A open loop is unstable and Acl closed loop is stable."
   ]
  },
  {
   "cell_type": "code",
   "execution_count": 57,
   "metadata": {},
   "outputs": [
    {
     "data": {
      "image/png": "[encoded data removed]",
      "text/plain": [
       "<Figure size 500x300 with 1 Axes>"
      ]
     },
     "metadata": {},
     "output_type": "display_data"
    },
    {
     "name": "stdout",
     "output_type": "stream",
     "text": [
      "y(∞) = 98.44\n",
      "ycl(∞) = 0.50\n"
     ]
    }
   ],
   "source": [
    "# step response of A and Acl\n",
    "t = np.linspace(0, 5, 1000)\n",
    "y, t = matlab.step(sys, t)\n",
    "ycl, t = matlab.step(syscl, t)\n",
    "\n",
    "fig, ax = plt.subplots(figsize=(5, 3))\n",
    "\n",
    "ax.plot(t, y, label='A')\n",
    "ax.plot(t, ycl, label='Acl')\n",
    "ax.legend()\n",
    "\n",
    "# limit y axis\n",
    "plt.ylim(0, 2)\n",
    "plt.show()\n",
    "\n",
    "# print \"infinity\" values of y and ycl\n",
    "print(f'y(∞) = {y[-1]:.2f}')\n",
    "print(f'ycl(∞) = {ycl[-1]:.2f}')"
   ]
  },
  {
   "cell_type": "markdown",
   "metadata": {},
   "source": [
    "we also need to solve for the DC gain "
   ]
  },
  {
   "cell_type": "code",
   "execution_count": 58,
   "metadata": {},
   "outputs": [
    {
     "data": {
      "text/plain": [
       "(0.5, 2.0)"
      ]
     },
     "execution_count": 58,
     "metadata": {},
     "output_type": "execute_result"
    }
   ],
   "source": [
    "kdc = matlab.dcgain(syscl)\n",
    "kr = 1/kdc \n",
    "\n",
    "kdc, kr"
   ]
  },
  {
   "cell_type": "code",
   "execution_count": 59,
   "metadata": {},
   "outputs": [
    {
     "data": {
      "text/latex": [
       "$$\n",
       "\\left(\\begin{array}{rllrll|rll}\n",
       "-2\\phantom{.}&\\hspace{-1em}&\\hspace{-1em}\\phantom{\\cdot}&0\\phantom{.}&\\hspace{-1em}&\\hspace{-1em}\\phantom{\\cdot}&2\\phantom{.}&\\hspace{-1em}&\\hspace{-1em}\\phantom{\\cdot}\\\\\n",
       "2\\phantom{.}&\\hspace{-1em}&\\hspace{-1em}\\phantom{\\cdot}&-1\\phantom{.}&\\hspace{-1em}&\\hspace{-1em}\\phantom{\\cdot}&0\\phantom{.}&\\hspace{-1em}&\\hspace{-1em}\\phantom{\\cdot}\\\\\n",
       "\\hline\n",
       "1\\phantom{.}&\\hspace{-1em}&\\hspace{-1em}\\phantom{\\cdot}&0\\phantom{.}&\\hspace{-1em}&\\hspace{-1em}\\phantom{\\cdot}&0\\phantom{.}&\\hspace{-1em}&\\hspace{-1em}\\phantom{\\cdot}\\\\\n",
       "\\end{array}\\right)\n",
       "$$"
      ],
      "text/plain": [
       "<LinearIOSystem:sys[17]:['u[0]']->['y[0]']>"
      ]
     },
     "execution_count": 59,
     "metadata": {},
     "output_type": "execute_result"
    }
   ],
   "source": [
    "syscl_scaled = matlab.ss(Acl, B*kr, C, D) # B*kr is the new B matrix\n",
    "\n",
    "syscl_scaled"
   ]
  },
  {
   "cell_type": "markdown",
   "metadata": {},
   "source": [
    "Agora podemos forçar a convergência do sistema para 1, por exemplo."
   ]
  },
  {
   "cell_type": "code",
   "execution_count": 60,
   "metadata": {},
   "outputs": [
    {
     "data": {
      "image/png": "[encoded data removed]",
      "text/plain": [
       "<Figure size 500x300 with 1 Axes>"
      ]
     },
     "metadata": {},
     "output_type": "display_data"
    }
   ],
   "source": [
    "# step response of all systems\n",
    "\n",
    "y_scaled, t = matlab.step(syscl_scaled, t)\n",
    "\n",
    "fig, ax = plt.subplots(figsize=(5, 3))\n",
    "\n",
    "ax.plot(t, y, label='A')\n",
    "ax.plot(t, ycl, label='Acl')\n",
    "ax.plot(t, y_scaled, label='Acl_scaled')\n",
    "\n",
    "ax.legend()\n",
    "plt.ylim(0, 2)\n",
    "plt.show()"
   ]
  },
  {
   "cell_type": "markdown",
   "metadata": {},
   "source": [
    "# PD Controller compared to Pole Placement\n",
    "\n",
    "Teorically we can use a PD controller to force the system to converge to 1, the same way a pole placement system would do. \n",
    "\n",
    "<img src=\"PD_controller.png\" width=500>"
   ]
  },
  {
   "cell_type": "code",
   "execution_count": 113,
   "metadata": {},
   "outputs": [
    {
     "name": "stdout",
     "output_type": "stream",
     "text": [
      "Controller: \n",
      "0.5 s + 5\n",
      "---------\n",
      "    1\n",
      "\n",
      "System: \n",
      "   s + 1\n",
      "-----------\n",
      "s^2 + s - 2\n",
      "\n",
      "Closed-Loop System: \n",
      "0.5 s^2 + 5.5 s + 5\n",
      "-------------------\n",
      "0.5 s^2 - 4.5 s - 7\n",
      "\n",
      "y(∞) = 10.00\n"
     ]
    },
    {
     "data": {
      "image/png": "[encoded data removed]",
      "text/plain": [
       "<Figure size 640x480 with 1 Axes>"
      ]
     },
     "metadata": {},
     "output_type": "display_data"
    }
   ],
   "source": [
    "# Define PD controller gains (tune these values)\n",
    "Kp = 5\n",
    "Kd = 0.5\n",
    "\n",
    "# Create the closed-loop transfer function by connecting the system and controller in feedback\n",
    "s = matlab.tf('s')\n",
    "controller_tf = (Kp + Kd*s)\n",
    "sys_tf = matlab.tf(sys)\n",
    "closed_loop_sys = matlab.feedback(sys_tf*controller_tf, -1)\n",
    "\n",
    "# print tfs\n",
    "print(f'Controller: {controller_tf}')\n",
    "print(f'System: {sys_tf}')\n",
    "print(f'Closed-Loop System: {closed_loop_sys}')\n",
    "\n",
    "\n",
    "# Define time vector for simulation\n",
    "t = np.linspace(0, 10, 1000)\n",
    "\n",
    "# Step response of the closed-loop system\n",
    "time, response = matlab.step(closed_loop_sys, T=t)\n",
    "\n",
    "# steady-state value\n",
    "print(f'y(∞) = {response[-1]:.2f}')\n",
    "\n",
    "# Plot the step response\n",
    "plt.plot(time, response)\n",
    "plt.xlabel('Time')\n",
    "plt.ylabel('Output')\n",
    "plt.title('Closed-Loop Step Response')\n",
    "plt.grid(True)\n",
    "plt.show()"
   ]
  }
 ],
 "metadata": {
  "kernelspec": {
   "display_name": "Python 3",
   "language": "python",
   "name": "python3"
  },
  "language_info": {
   "codemirror_mode": {
    "name": "ipython",
    "version": 3
   },
   "file_extension": ".py",
   "mimetype": "text/x-python",
   "name": "python",
   "nbconvert_exporter": "python",
   "pygments_lexer": "ipython3",
   "version": "3.8.10"
  },
  "orig_nbformat": 4
 },
 "nbformat": 4,
 "nbformat_minor": 2
}
