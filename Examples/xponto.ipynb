{
 "cells": [
  {
   "cell_type": "markdown",
   "metadata": {},
   "source": [
    "# Exemplo xponto\n",
    "\n",
    "SEL0326 - Controle de Sistemas Lineares (2023)\n",
    "\n",
    "> Aluno: Felipe Andrade Garcia Tommaselli- 11800910 "
   ]
  },
  {
   "cell_type": "code",
   "execution_count": null,
   "metadata": {},
   "outputs": [],
   "source": []
  }
 ],
 "metadata": {
  "language_info": {
   "name": "python"
  },
  "orig_nbformat": 4
 },
 "nbformat": 4,
 "nbformat_minor": 2
}
